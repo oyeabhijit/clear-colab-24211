{
  "nbformat": 4,
  "nbformat_minor": 0,
  "metadata": {
    "colab": {
      "name": "Untitled0.ipynb",
      "provenance": [],
      "authorship_tag": "ABX9TyNiv6UT7c8m/EAmo/y/Hyyb",
      "include_colab_link": true
    },
    "kernelspec": {
      "name": "python3",
      "display_name": "Python 3"
    },
    "language_info": {
      "name": "python"
    }
  },
  "cells": [
    {
      "cell_type": "markdown",
      "metadata": {
        "id": "view-in-github",
        "colab_type": "text"
      },
      "source": [
        "<a href=\"https://colab.research.google.com/github/oyeabhijit/clear-colab-24211/blob/main/wikipedia_search_tool.ipynb\" target=\"_parent\"><img src=\"https://colab.research.google.com/assets/colab-badge.svg\" alt=\"Open In Colab\"/></a>"
      ]
    },
    {
      "cell_type": "markdown",
      "metadata": {
        "id": "zrQNScbwUF7k"
      },
      "source": [
        "# Selecting Data for Modeling"
      ]
    },
    {
      "cell_type": "code",
      "metadata": {
        "id": "MQ9aWmE2UHL9"
      },
      "source": [
        "%pip install Wikipedia"
      ],
      "execution_count": null,
      "outputs": []
    },
    {
      "cell_type": "code",
      "metadata": {
        "id": "iPJEEImxXBug"
      },
      "source": [
        "import wikipedia"
      ],
      "execution_count": 3,
      "outputs": []
    },
    {
      "cell_type": "code",
      "metadata": {
        "id": "M8JvRwwDXEiy"
      },
      "source": [
        "search_keyword=input(\"Enter the subject to search on wikipedia:\\n\")\n",
        "sk = wikipedia.page(search_keyword)"
      ],
      "execution_count": null,
      "outputs": []
    },
    {
      "cell_type": "code",
      "metadata": {
        "id": "3JP8fQm_XVuz"
      },
      "source": [
        "print(wikipedia.page(sk).summary)"
      ],
      "execution_count": null,
      "outputs": []
    },
    {
      "cell_type": "code",
      "metadata": {
        "id": "BBKHx9XcXX35"
      },
      "source": [
        "print(sk.content)"
      ],
      "execution_count": null,
      "outputs": []
    },
    {
      "cell_type": "code",
      "metadata": {
        "id": "VDJz03XcXYo6"
      },
      "source": [
        "print(sk.links[0])"
      ],
      "execution_count": null,
      "outputs": []
    }
  ]
}