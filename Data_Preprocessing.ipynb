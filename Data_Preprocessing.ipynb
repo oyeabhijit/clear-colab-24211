{
  "nbformat": 4,
  "nbformat_minor": 0,
  "metadata": {
    "colab": {
      "name": "Data Preprocessing.ipynb",
      "provenance": [],
      "collapsed_sections": [],
      "authorship_tag": "ABX9TyNkUU0SHKNLWqs2Aplnb5iW"
    },
    "kernelspec": {
      "name": "python3",
      "display_name": "Python 3"
    },
    "language_info": {
      "name": "python"
    }
  },
  "cells": [
    {
      "cell_type": "markdown",
      "metadata": {
        "id": "vE5ct0Dt-CWC"
      },
      "source": [
        "# Importing Libraries"
      ]
    },
    {
      "cell_type": "code",
      "metadata": {
        "id": "-cvHz7F6-ILv"
      },
      "source": [
        "import numpy as np\n",
        "import matplotlib.pyplot as pd\n",
        "import pandas as pd"
      ],
      "execution_count": 5,
      "outputs": []
    },
    {
      "cell_type": "markdown",
      "metadata": {
        "id": "LJqJFHkc-_jh"
      },
      "source": [
        "# Importing CSV Dataset"
      ]
    },
    {
      "cell_type": "code",
      "metadata": {
        "id": "Fm8CWORL_DD_"
      },
      "source": [
        "dataset = pd.read_csv('Data.csv')\n",
        "x = dataset.iloc[ : , :-1].values\n",
        "y = dataset.iloc[ : , -1].values"
      ],
      "execution_count": 24,
      "outputs": []
    },
    {
      "cell_type": "code",
      "metadata": {
        "colab": {
          "base_uri": "https://localhost:8080/"
        },
        "id": "n6ivRK9KFXVo",
        "outputId": "3251b4b8-50d9-4ed0-8f99-f8e9acab7050"
      },
      "source": [
        "print(x)"
      ],
      "execution_count": 7,
      "outputs": [
        {
          "output_type": "stream",
          "text": [
            "[['France' 44.0 72000.0]\n",
            " ['Spain' 27.0 48000.0]\n",
            " ['Germany' 30.0 54000.0]\n",
            " ['Spain' 38.0 61000.0]\n",
            " ['Germany' 40.0 nan]\n",
            " ['France' 35.0 58000.0]\n",
            " ['Spain' nan 52000.0]\n",
            " ['France' 48.0 79000.0]\n",
            " ['Germany' 50.0 83000.0]\n",
            " ['France' 37.0 67000.0]]\n"
          ],
          "name": "stdout"
        }
      ]
    },
    {
      "cell_type": "code",
      "metadata": {
        "colab": {
          "base_uri": "https://localhost:8080/"
        },
        "id": "ALeEPH08FZnG",
        "outputId": "2939adb4-ce98-4604-ee97-966e0a10a8c1"
      },
      "source": [
        "print(y)"
      ],
      "execution_count": 8,
      "outputs": [
        {
          "output_type": "stream",
          "text": [
            "['No' 'Yes' 'No' 'No' 'Yes' 'Yes' 'No' 'Yes' 'No' 'Yes']\n"
          ],
          "name": "stdout"
        }
      ]
    },
    {
      "cell_type": "markdown",
      "metadata": {
        "id": "7VIrMzFCOpVV"
      },
      "source": [
        "# Difference between Class, Object and Methods"
      ]
    },
    {
      "cell_type": "markdown",
      "metadata": {
        "id": "HrGH5eI2GFdP"
      },
      "source": [
        "A class is the model of something we want to build. For example, if we make a house construction plan that gathers the instructions on how to build a house, then this construction plan is the class.\n",
        "\n",
        "An object is an instance of the class. So if we take that same example of the house construction plan, then an object is simply a house. A house (the object) that was built by following the instructions of the construction plan (the class).\n",
        "And therefore there can be many objects of the same class, because we can build many houses from the construction plan.\n",
        "\n",
        "A method is a tool we can use on the object to complete a specific action. So in this same example, a tool can be to open the main door of the house if a guest is coming. A method can also be seen as a function that is applied onto the object, takes some inputs (that were defined in the class) and returns some output."
      ]
    },
    {
      "cell_type": "markdown",
      "metadata": {
        "id": "kjiP3dk2Kr-4"
      },
      "source": [
        "# Replacing Missing Value by Average of it's column "
      ]
    },
    {
      "cell_type": "code",
      "metadata": {
        "id": "Y3IG26LeKz61"
      },
      "source": [
        "from sklearn.impute import SimpleImputer\n",
        "imputer =  SimpleImputer(missing_values=np.nan, strategy='mean')\n",
        "imputer.fit(x[ : , 1:3])\n",
        "x[ : , 1:3] = imputer.transform(x[ : , 1:3])"
      ],
      "execution_count": 25,
      "outputs": []
    },
    {
      "cell_type": "code",
      "metadata": {
        "colab": {
          "base_uri": "https://localhost:8080/"
        },
        "id": "ei_5M35kOA0l",
        "outputId": "335ab08d-bd23-445c-d76d-dadfe5c4b3fe"
      },
      "source": [
        "print(x)"
      ],
      "execution_count": 12,
      "outputs": [
        {
          "output_type": "stream",
          "text": [
            "[['France' 44.0 72000.0]\n",
            " ['Spain' 27.0 48000.0]\n",
            " ['Germany' 30.0 54000.0]\n",
            " ['Spain' 38.0 61000.0]\n",
            " ['Germany' 40.0 63777.77777777778]\n",
            " ['France' 35.0 58000.0]\n",
            " ['Spain' 38.77777777777778 52000.0]\n",
            " ['France' 48.0 79000.0]\n",
            " ['Germany' 50.0 83000.0]\n",
            " ['France' 37.0 67000.0]]\n"
          ],
          "name": "stdout"
        }
      ]
    },
    {
      "cell_type": "markdown",
      "metadata": {
        "id": "RoxKmFTHM8N_"
      },
      "source": [
        "In line 3, imputer.fit(x[ : , 1:3]), [:] is to include all the bounds of the rows, where as [1:3] is used to include all the bounds from 1 to 2. But we also have 3 as the upper bound, that is because python excludes the upper bound function."
      ]
    },
    {
      "cell_type": "markdown",
      "metadata": {
        "id": "fzHJxW15OjT8"
      },
      "source": [
        "# Encoding Categorical Data"
      ]
    },
    {
      "cell_type": "markdown",
      "metadata": {
        "id": "Z2tyCKupps7e"
      },
      "source": [
        "Encoding Indeoendent Variable"
      ]
    },
    {
      "cell_type": "code",
      "metadata": {
        "id": "DhCuX--dOm_0"
      },
      "source": [
        "from sklearn.compose import ColumnTransformer\n",
        "from sklearn.preprocessing import OneHotEncoder\n",
        "ct = ColumnTransformer(transformers = [('encoder', OneHotEncoder(), [0])], remainder = 'passthrough')\n",
        "x = np.array(ct.fit_transform(x))"
      ],
      "execution_count": 26,
      "outputs": []
    },
    {
      "cell_type": "code",
      "metadata": {
        "colab": {
          "base_uri": "https://localhost:8080/"
        },
        "id": "dWnyoWDCQ5-f",
        "outputId": "f2a3bcd2-b223-43a2-9150-b331eff870d1"
      },
      "source": [
        "print(x)"
      ],
      "execution_count": 27,
      "outputs": [
        {
          "output_type": "stream",
          "text": [
            "[[1.0 0.0 0.0 44.0 72000.0]\n",
            " [0.0 0.0 1.0 27.0 48000.0]\n",
            " [0.0 1.0 0.0 30.0 54000.0]\n",
            " [0.0 0.0 1.0 38.0 61000.0]\n",
            " [0.0 1.0 0.0 40.0 63777.77777777778]\n",
            " [1.0 0.0 0.0 35.0 58000.0]\n",
            " [0.0 0.0 1.0 38.77777777777778 52000.0]\n",
            " [1.0 0.0 0.0 48.0 79000.0]\n",
            " [0.0 1.0 0.0 50.0 83000.0]\n",
            " [1.0 0.0 0.0 37.0 67000.0]]\n"
          ],
          "name": "stdout"
        }
      ]
    },
    {
      "cell_type": "markdown",
      "metadata": {
        "id": "oNXQw2ploUSo"
      },
      "source": [
        "# Encoding Dependent Variable"
      ]
    },
    {
      "cell_type": "code",
      "metadata": {
        "id": "TeTyNA11oXUg"
      },
      "source": [
        "from sklearn.preprocessing import LabelEncoder\n",
        "le = LabelEncoder()\n",
        "y = le.fit_transform(y)"
      ],
      "execution_count": 30,
      "outputs": []
    },
    {
      "cell_type": "code",
      "metadata": {
        "colab": {
          "base_uri": "https://localhost:8080/"
        },
        "id": "fC_THp4SpIfA",
        "outputId": "391da770-1a51-42ca-bfc4-397a477b1acf"
      },
      "source": [
        "print(y)"
      ],
      "execution_count": 31,
      "outputs": [
        {
          "output_type": "stream",
          "text": [
            "[0 1 0 0 1 1 0 1 0 1]\n"
          ],
          "name": "stdout"
        }
      ]
    },
    {
      "cell_type": "markdown",
      "metadata": {
        "id": "BqGIuWSvp_q_"
      },
      "source": [
        "# Splitting Dataset into Testing & Training Set"
      ]
    },
    {
      "cell_type": "code",
      "metadata": {
        "id": "jSrc0j9jsLQk"
      },
      "source": [
        "from sklearn.model_selection import train_test_split\n",
        "x_train, x_test, y_train, y_test = train_test_split(x,y,test_size = 0.2, random_state = 1)"
      ],
      "execution_count": 42,
      "outputs": []
    },
    {
      "cell_type": "code",
      "metadata": {
        "colab": {
          "base_uri": "https://localhost:8080/"
        },
        "id": "V9nNYrBAtYnM",
        "outputId": "ad8ef442-ea0b-4c2c-ad95-504947c8a450"
      },
      "source": [
        "print(x_train)"
      ],
      "execution_count": 43,
      "outputs": [
        {
          "output_type": "stream",
          "text": [
            "[[0.0 0.0 1.0 38.77777777777778 52000.0]\n",
            " [0.0 1.0 0.0 40.0 63777.77777777778]\n",
            " [1.0 0.0 0.0 44.0 72000.0]\n",
            " [0.0 0.0 1.0 38.0 61000.0]\n",
            " [0.0 0.0 1.0 27.0 48000.0]\n",
            " [1.0 0.0 0.0 48.0 79000.0]\n",
            " [0.0 1.0 0.0 50.0 83000.0]\n",
            " [1.0 0.0 0.0 35.0 58000.0]]\n"
          ],
          "name": "stdout"
        }
      ]
    },
    {
      "cell_type": "code",
      "metadata": {
        "colab": {
          "base_uri": "https://localhost:8080/"
        },
        "id": "4HvKef-4tYwa",
        "outputId": "2703b83c-caee-451b-b956-2f200c97974d"
      },
      "source": [
        "print(x_test)"
      ],
      "execution_count": 35,
      "outputs": [
        {
          "output_type": "stream",
          "text": [
            "[[0.0 1.0 0.0 30.0 54000.0]\n",
            " [1.0 0.0 0.0 37.0 67000.0]]\n"
          ],
          "name": "stdout"
        }
      ]
    },
    {
      "cell_type": "code",
      "metadata": {
        "colab": {
          "base_uri": "https://localhost:8080/"
        },
        "id": "Sqkv1LzktY4g",
        "outputId": "73bb2e86-580c-44d2-be02-03a660a50681"
      },
      "source": [
        "print(y_train)"
      ],
      "execution_count": 44,
      "outputs": [
        {
          "output_type": "stream",
          "text": [
            "[0 1 0 0 1 1 0 1]\n"
          ],
          "name": "stdout"
        }
      ]
    },
    {
      "cell_type": "code",
      "metadata": {
        "colab": {
          "base_uri": "https://localhost:8080/"
        },
        "id": "kNclV4q7tZAu",
        "outputId": "b29323c8-f370-4f2b-f7b8-79a22de77e3e"
      },
      "source": [
        "print(y_test)"
      ],
      "execution_count": 37,
      "outputs": [
        {
          "output_type": "stream",
          "text": [
            "[0 1]\n"
          ],
          "name": "stdout"
        }
      ]
    },
    {
      "cell_type": "markdown",
      "metadata": {
        "id": "CTzx8qYpqHvw"
      },
      "source": [
        "# Feature Scaling"
      ]
    },
    {
      "cell_type": "markdown",
      "metadata": {
        "id": "i_0CDnoUxH_0"
      },
      "source": [
        ""
      ]
    }
  ]
}